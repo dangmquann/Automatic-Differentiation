{
 "cells": [
  {
   "cell_type": "code",
   "execution_count": 1,
   "metadata": {},
   "outputs": [],
   "source": [
    "from tensor import Tensor, OP\n",
    "\n",
    "import numpy as np\n",
    "import time"
   ]
  },
  {
   "cell_type": "code",
   "execution_count": 2,
   "metadata": {},
   "outputs": [
    {
     "name": "stdout",
     "output_type": "stream",
     "text": [
      "value of x: ([[100]])\n",
      "grad of x wrt a: ([[140.]])\n",
      "grad of x wrt b: ([[40.]])\n"
     ]
    }
   ],
   "source": [
    "from tensor import Tensor\n",
    "\n",
    "a = Tensor(2)\n",
    "b = Tensor(3)\n",
    "\n",
    "#f(x) = ((a + b) * a)^2\n",
    "\n",
    "\n",
    "z = a + b\n",
    "y = z * a\n",
    "x = y ** 2\n",
    "\n",
    "x.backward()\n",
    "\n",
    "print(\"value of x: ({})\".format(x.value))\n",
    "print(\"grad of x wrt a: ({})\".format(a.grad))\n",
    "print(\"grad of x wrt b: ({})\".format(b.grad))\n"
   ]
  }
 ],
 "metadata": {
  "kernelspec": {
   "display_name": "venv",
   "language": "python",
   "name": "python3"
  },
  "language_info": {
   "codemirror_mode": {
    "name": "ipython",
    "version": 3
   },
   "file_extension": ".py",
   "mimetype": "text/x-python",
   "name": "python",
   "nbconvert_exporter": "python",
   "pygments_lexer": "ipython3",
   "version": "3.11.5"
  },
  "orig_nbformat": 4
 },
 "nbformat": 4,
 "nbformat_minor": 2
}
